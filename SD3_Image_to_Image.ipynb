{
  "nbformat": 4,
  "nbformat_minor": 0,
  "metadata": {
    "colab": {
      "provenance": [],
      "authorship_tag": "ABX9TyPQuonHufpo61WkY0pOgBNt",
      "include_colab_link": true
    },
    "kernelspec": {
      "name": "python3",
      "display_name": "Python 3"
    },
    "language_info": {
      "name": "python"
    }
  },
  "cells": [
    {
      "cell_type": "markdown",
      "metadata": {
        "id": "view-in-github",
        "colab_type": "text"
      },
      "source": [
        "<a href=\"https://colab.research.google.com/github/pavelzhogolev/stable-diffusion3-colab/blob/main/SD3_Image_to_Image.ipynb\" target=\"_parent\"><img src=\"https://colab.research.google.com/assets/colab-badge.svg\" alt=\"Open In Colab\"/></a>"
      ]
    },
    {
      "cell_type": "code",
      "execution_count": null,
      "metadata": {
        "id": "TUiqVUPgvkYL"
      },
      "outputs": [],
      "source": [
        "#@title Install requirements\n",
        "from io import BytesIO\n",
        "import IPython\n",
        "import json\n",
        "import os\n",
        "from PIL import Image\n",
        "import requests\n",
        "import time\n",
        "from google.colab import output\n",
        "\n",
        "#@title Connect to the Stability API\n",
        "import getpass\n",
        "# @markdown To get your API key visit https://platform.stability.ai/account/keys\n",
        "STABILITY_KEY = getpass.getpass('Enter your API Key')\n",
        "\n",
        "#@title SD3 Medium\n",
        "#@markdown - Drag and drop image to file folder on left\n",
        "#@markdown - Right click it and choose Copy path\n",
        "#@markdown - Paste that path into image field below\n",
        "#@markdown <br><br>\n",
        "\n",
        "image = \"/content/veggiecar.png\" #@param {type:\"string\"}\n",
        "prompt = \"A car made out of mushrooms\" #@param {type:\"string\"}\n",
        "seed = 0 #@param {type:\"integer\"}\n",
        "output_format = \"jpeg\" #@param [\"jpeg\", \"png\"]\n",
        "strength = 0.75 #@param {type:\"slider\", min:0.0, max: 1.0, step: 0.01}\n",
        "\n",
        "host = f\"https://api.stability.ai/v2beta/stable-image/generate/sd3\"\n",
        "\n",
        "params = {\n",
        "        \"image\" : image,\n",
        "        \"prompt\" : prompt,\n",
        "        \"strength\" : strength,\n",
        "        \"seed\" : seed,\n",
        "        \"output_format\": output_format,\n",
        "        \"mode\" : \"image-to-image\",\n",
        "        \"model\" : \"sd3-medium\"\n",
        "}\n",
        "\n",
        "response = send_generation_request(\n",
        "    host,\n",
        "    params\n",
        ")\n",
        "\n",
        "# Decode response\n",
        "output_image = response.content\n",
        "finish_reason = response.headers.get(\"finish-reason\")\n",
        "seed = response.headers.get(\"seed\")\n",
        "\n",
        "# Check for NSFW classification\n",
        "if finish_reason == 'CONTENT_FILTERED':\n",
        "    raise Warning(\"Generation failed NSFW classifier\")\n",
        "\n",
        "# Save and display result\n",
        "generated = f\"generated_{seed}.{output_format}\"\n",
        "with open(generated, \"wb\") as f:\n",
        "    f.write(output_image)\n",
        "print(f\"Saved image {generated}\")\n",
        "\n",
        "output.no_vertical_scroll()\n",
        "print(\"Result image:\")\n",
        "IPython.display.display(Image.open(generated))\n",
        "\n"
      ]
    }
  ]
}